{
 "cells": [
  {
   "cell_type": "markdown",
   "id": "859c8bae",
   "metadata": {},
   "source": [
    "# Sample data representing individuals and their vaccination status"
   ]
  },
  {
   "cell_type": "code",
   "execution_count": 1,
   "id": "8bd382b8",
   "metadata": {},
   "outputs": [],
   "source": [
    "vaccination_data = {\n",
    "    \"John\": True,\n",
    "    \"Alice\": False,\n",
    "    \"Bob\": True,\n",
    "    \"Eve\": True,\n",
    "}\n"
   ]
  },
  {
   "cell_type": "markdown",
   "id": "f489f77f",
   "metadata": {},
   "source": [
    "\n",
    "# Function to check vaccination status"
   ]
  },
  {
   "cell_type": "code",
   "execution_count": 3,
   "id": "6be3c3d4",
   "metadata": {},
   "outputs": [],
   "source": [
    "def check_vaccination_status(person_name):\n",
    "    if person_name in vaccination_data:\n",
    "        if vaccination_data[person_name]:\n",
    "            return f\"{person_name} is vaccinated.\"\n",
    "        else:\n",
    "            return f\"{person_name} is not vaccinated.\"\n",
    "    else:\n",
    "        return f\"Information about {person_name} is not available.\"\n",
    "    "
   ]
  },
  {
   "cell_type": "markdown",
   "id": "ebcdffa5",
   "metadata": {},
   "source": [
    "# Test the function\n"
   ]
  },
  {
   "cell_type": "code",
   "execution_count": 4,
   "id": "0df6623b",
   "metadata": {},
   "outputs": [
    {
     "name": "stdout",
     "output_type": "stream",
     "text": [
      "John is vaccinated.\n"
     ]
    }
   ],
   "source": [
    "person_name = \"John\"\n",
    "status = check_vaccination_status(person_name)\n",
    "print(status)"
   ]
  },
  {
   "cell_type": "code",
   "execution_count": null,
   "id": "129856fc",
   "metadata": {},
   "outputs": [],
   "source": []
  }
 ],
 "metadata": {
  "kernelspec": {
   "display_name": "Python 3 (ipykernel)",
   "language": "python",
   "name": "python3"
  },
  "language_info": {
   "codemirror_mode": {
    "name": "ipython",
    "version": 3
   },
   "file_extension": ".py",
   "mimetype": "text/x-python",
   "name": "python",
   "nbconvert_exporter": "python",
   "pygments_lexer": "ipython3",
   "version": "3.10.9"
  }
 },
 "nbformat": 4,
 "nbformat_minor": 5
}
